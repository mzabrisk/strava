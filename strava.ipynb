{
 "cells": [
  {
   "cell_type": "code",
   "execution_count": 9,
   "metadata": {},
   "outputs": [],
   "source": [
    "### found (and modified) instructions here:\n",
    "# https://medium.com/swlh/using-python-to-connect-to-stravas-api-and-analyse-your-activities-dummies-guide-5f49727aac86\n",
    "\n",
    "# Oath link\n",
    "# http://www.strava.com/oauth/authorize?client_id=98499&response_type=code&redirect_uri=http://localhost/exchange_token&approval_prompt=force&scope=profile:read_all,activity:read_all"
   ]
  },
  {
   "cell_type": "code",
   "execution_count": 20,
   "metadata": {},
   "outputs": [
    {
     "name": "stdout",
     "output_type": "stream",
     "text": [
      "{'message': 'Bad Request', 'errors': [{'resource': 'AuthorizationCode', 'field': 'code', 'code': 'invalid'}]}\n"
     ]
    }
   ],
   "source": [
    "import requests\n",
    "import json\n",
    "# Make Strava auth API call with your \n",
    "# client_code, client_secret and code\n",
    "response = requests.post(\n",
    "                    url = 'https://www.strava.com/oauth/token',\n",
    "                    data = {\n",
    "                            'client_id': 98499,\n",
    "                            'client_secret': '6c0f48a5ec2ac40a9fc0dc451f91239f46998593',\n",
    "                            'code': 'cb71cc26ce4ff397c5c76fa5b34e8980206eeef3',\n",
    "                            'grant_type': 'authorization_code'\n",
    "                            }\n",
    "                )\n",
    "#Save json response as a variable\n",
    "strava_tokens = response.json()\n",
    "# Save tokens to file\n",
    "with open('strava_tokens.json', 'w') as outfile:\n",
    "    json.dump(strava_tokens, outfile)\n",
    "# Open JSON file and print the file contents \n",
    "# to check it's worked properly\n",
    "with open('strava_tokens.json') as check:\n",
    "  data = json.load(check)\n",
    "print(data)"
   ]
  },
  {
   "cell_type": "code",
   "execution_count": 19,
   "metadata": {},
   "outputs": [
    {
     "name": "stdout",
     "output_type": "stream",
     "text": [
      "{'message': 'Authorization Error', 'errors': [{'resource': 'AccessToken', 'field': 'activity:read_permission', 'code': 'missing'}]}\n"
     ]
    }
   ],
   "source": [
    "import requests\n",
    "from pandas.io.json import json_normalize\n",
    "import json\n",
    "import csv\n",
    "# Get the tokens from file to connect to Strava\n",
    "with open('strava_tokens.json') as json_file:\n",
    "    strava_tokens = json.load(json_file)\n",
    "# Loop through all activities\n",
    "url = \"https://www.strava.com/api/v3/activities\"\n",
    "access_token = strava_tokens['access_token']\n",
    "# Get first page of activities from Strava with all fields\n",
    "r = requests.get(url + '?access_token=' + access_token)\n",
    "    \n",
    "with open('strava_data_test.json', 'w', encoding='utf-8') as f:\n",
    "        json.dump(r.json(), f, ensure_ascii=False, indent=4)\n",
    "print(r.json())\n",
    "\n",
    "# df = json_normalize(r)\n",
    "# df.head()\n"
   ]
  },
  {
   "cell_type": "code",
   "execution_count": 7,
   "metadata": {},
   "outputs": [],
   "source": [
    "# df.to_csv('strava_activities_all_fields.csv')"
   ]
  },
  {
   "cell_type": "code",
   "execution_count": 6,
   "metadata": {},
   "outputs": [],
   "source": [
    "# df.columns"
   ]
  },
  {
   "cell_type": "code",
   "execution_count": null,
   "metadata": {},
   "outputs": [],
   "source": [
    "# #columns = ['name', 'distance', 'moving_time', 'elapsed_time',\n",
    "#        'total_elevation_gain', 'type', 'sport_type', 'id',\n",
    "#        'start_date_local', 'gear_id', 'start_latlng', 'end_latlng', 'average_speed',\n",
    "#        'max_speed', 'average_cadence', 'average_heartrate', 'max_heartrate', 'elev_high', 'elev_low', 'suffer_score',\n",
    "#        'average_watts', 'max_watts', 'weighted_average_watts', 'kilojoules', 'device_watts']\n",
    "       "
   ]
  },
  {
   "cell_type": "code",
   "execution_count": 9,
   "metadata": {},
   "outputs": [],
   "source": [
    "# Send data to json file 'strave_data.json'\n",
    "\n",
    "import pandas as pd\n",
    "# Loop through all activities\n",
    "page = 1\n",
    "url = \"https://www.strava.com/api/v3/activities\"\n",
    "access_token = strava_tokens['access_token']\n",
    "# Create the dataframe ready for the API call to store your activity data\n",
    "\n",
    "while True:\n",
    "    \n",
    "    # get page of activities from Strava\n",
    "    r = requests.get(url + '?access_token=' + access_token + '&per_page=200' + '&page=' + str(page))\n",
    "    with open('strava_data.json', 'a', encoding='utf-8') as f:\n",
    "        json.dump(r.json(), f, ensure_ascii=False, indent=4)\n",
    "    \n",
    "    # if no results then exit loop\n",
    "    if (not r):\n",
    "        break\n",
    "    \n",
    "\n",
    "    # increment page\n",
    "    page += 1"
   ]
  }
 ],
 "metadata": {
  "kernelspec": {
   "display_name": "PythonData",
   "language": "python",
   "name": "python3"
  },
  "language_info": {
   "codemirror_mode": {
    "name": "ipython",
    "version": 3
   },
   "file_extension": ".py",
   "mimetype": "text/x-python",
   "name": "python",
   "nbconvert_exporter": "python",
   "pygments_lexer": "ipython3",
   "version": "3.7.15"
  },
  "orig_nbformat": 4,
  "vscode": {
   "interpreter": {
    "hash": "a5387b9da968551e43e0ccab31c37bebadc093c630309dcd510e17231b5b064a"
   }
  }
 },
 "nbformat": 4,
 "nbformat_minor": 2
}
